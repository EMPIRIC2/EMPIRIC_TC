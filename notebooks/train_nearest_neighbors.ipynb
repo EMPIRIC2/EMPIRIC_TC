{
 "cells": [
  {
   "cell_type": "code",
   "execution_count": null,
   "id": "7130d6fd-fa2e-414c-8d61-a07000257095",
   "metadata": {},
   "outputs": [],
   "source": [
    "%load_ext autoreload\n",
    "%autoreload 2\n",
    "import sys\n",
    "\n",
    "sys.path.append(\"../\")\n",
    "from MachineLearning.NearestNeighbors.nearest_neighbors import NearestNeighborsRegressor"
   ]
  },
  {
   "cell_type": "code",
   "execution_count": null,
   "id": "9ef19fdf-bf7c-45d0-b331-a99c7d910bd5",
   "metadata": {},
   "outputs": [],
   "source": [
    "## Replace\n",
    "training_data_path = \"/path/to/training/data\"\n",
    "model_save_path = \"./model/save/path/model_name\"\n",
    "\n",
    "nearest_neighbors = NearestNeighborsRegressor(training_data_path, 3, 5)\n",
    "nearest_neighbors.fit(model_save_path)"
   ]
  }
 ],
 "metadata": {
  "kernelspec": {
   "display_name": "Python 3 (ipykernel)",
   "language": "python",
   "name": "python3"
  },
  "language_info": {
   "codemirror_mode": {
    "name": "ipython",
    "version": 3
   },
   "file_extension": ".py",
   "mimetype": "text/x-python",
   "name": "python",
   "nbconvert_exporter": "python",
   "pygments_lexer": "ipython3",
   "version": "3.10.16"
  }
 },
 "nbformat": 4,
 "nbformat_minor": 5
}
