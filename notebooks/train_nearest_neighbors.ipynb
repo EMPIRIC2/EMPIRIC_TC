{
 "cells": [
  {
   "cell_type": "code",
   "execution_count": 1,
   "id": "7130d6fd-fa2e-414c-8d61-a07000257095",
   "metadata": {},
   "outputs": [],
   "source": [
    "%load_ext autoreload\n",
    "%autoreload 2\n",
    "import sys\n",
    "\n",
    "sys.path.append(\"../\")"
   ]
  },
  {
   "cell_type": "code",
   "execution_count": 2,
   "id": "9ef19fdf-bf7c-45d0-b331-a99c7d910bd5",
   "metadata": {},
   "outputs": [
    {
     "name": "stderr",
     "output_type": "stream",
     "text": [
      "2024-10-23 17:00:13.877093: E external/local_xla/xla/stream_executor/cuda/cuda_dnn.cc:9261] Unable to register cuDNN factory: Attempting to register factory for plugin cuDNN when one has already been registered\n",
      "2024-10-23 17:00:13.877199: E external/local_xla/xla/stream_executor/cuda/cuda_fft.cc:607] Unable to register cuFFT factory: Attempting to register factory for plugin cuFFT when one has already been registered\n",
      "2024-10-23 17:00:14.176675: E external/local_xla/xla/stream_executor/cuda/cuda_blas.cc:1515] Unable to register cuBLAS factory: Attempting to register factory for plugin cuBLAS when one has already been registered\n",
      "2024-10-23 17:00:14.773460: I tensorflow/core/platform/cpu_feature_guard.cc:182] This TensorFlow binary is optimized to use available CPU instructions in performance-critical operations.\n",
      "To enable the following instructions: AVX2 AVX512F FMA, in other operations, rebuild TensorFlow with the appropriate compiler flags.\n",
      "2024-10-23 17:00:21.414394: W tensorflow/compiler/tf2tensorrt/utils/py_utils.cc:38] TF-TRT Warning: Could not find TensorRT\n"
     ]
    }
   ],
   "source": [
    "from MachineLearning.NearestNeighbors.nearest_neighbors import NearestNeighborsRegressor"
   ]
  },
  {
   "cell_type": "code",
   "execution_count": 3,
   "id": "68e836b7-0f9e-420f-8a8d-9a066c53b771",
   "metadata": {},
   "outputs": [],
   "source": [
    "nearest_neighbors = NearestNeighborsRegressor('/users/ewinkelm/data/ewinkelm', 3, 5)"
   ]
  },
  {
   "cell_type": "code",
   "execution_count": 4,
   "id": "c20150c0-6d9b-45f1-b400-2d53d3b1f057",
   "metadata": {},
   "outputs": [],
   "source": [
    "nearest_neighbors.fit('./nearest_neighbors_cat_3_5')"
   ]
  },
  {
   "cell_type": "code",
   "execution_count": null,
   "id": "e1ca23ff-2fb9-4958-a46b-5cac6c4898ca",
   "metadata": {},
   "outputs": [],
   "source": []
  }
 ],
 "metadata": {
  "kernelspec": {
   "display_name": "ml_env",
   "language": "python",
   "name": "ml_env"
  },
  "language_info": {
   "codemirror_mode": {
    "name": "ipython",
    "version": 3
   },
   "file_extension": ".py",
   "mimetype": "text/x-python",
   "name": "python",
   "nbconvert_exporter": "python",
   "pygments_lexer": "ipython3",
   "version": "3.9.0"
  }
 },
 "nbformat": 4,
 "nbformat_minor": 5
}
