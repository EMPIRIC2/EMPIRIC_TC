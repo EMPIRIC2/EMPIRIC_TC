{
 "cells": [
  {
   "cell_type": "code",
   "execution_count": 1,
   "id": "01a869fc-0def-4e7e-868a-1517c05b0eb5",
   "metadata": {},
   "outputs": [],
   "source": [
    "import sys\n",
    "sys.path.append('../')"
   ]
  },
  {
   "cell_type": "code",
   "execution_count": 9,
   "id": "0800d7bd-0eb7-46b1-a2f1-d4c7e7e23e89",
   "metadata": {},
   "outputs": [],
   "source": [
    "from saved_models.gcm_inputs import get_genesis_map_from_weights, get_gcm_genesis_maps\n",
    "\n",
    "weights = [0, 0.5, 0.2, 0.3]\n",
    "\n",
    "maps = get_gcm_genesis_maps(\"../TrainingDataGeneration/InputData/\")\n",
    "weighted_map = get_genesis_map_from_weights(weights, maps)"
   ]
  },
  {
   "cell_type": "code",
   "execution_count": 10,
   "id": "3eb71195-f60e-4736-a454-0fc7fb1e8752",
   "metadata": {},
   "outputs": [
    {
     "name": "stdout",
     "output_type": "stream",
     "text": [
      "(6, 55, 105)\n"
     ]
    },
    {
     "data": {
      "text/plain": [
       "<matplotlib.image.AxesImage at 0x11a200410>"
      ]
     },
     "execution_count": 10,
     "metadata": {},
     "output_type": "execute_result"
    },
    {
     "data": {
      "image/png": "[encoded data removed]",
      "text/plain": [
       "<Figure size 640x480 with 1 Axes>"
      ]
     },
     "metadata": {},
     "output_type": "display_data"
    }
   ],
   "source": [
    "import matplotlib.pyplot as plt\n",
    "import numpy as np\n",
    "\n",
    "print(weighted_map.shape)\n",
    "plt.imshow(np.sum(weighted_map, axis=0))"
   ]
  },
  {
   "cell_type": "code",
   "execution_count": 14,
   "id": "f23b18ee-edbc-4e5f-85d4-8235064dcd97",
   "metadata": {},
   "outputs": [
    {
     "data": {
      "text/plain": [
       "<tf.Tensor: shape=(110, 210, 1), dtype=float32, numpy=\n",
       "array([[[0.11722147],\n",
       "        [0.1279895 ],\n",
       "        [0.1367135 ],\n",
       "        ...,\n",
       "        [0.0799751 ],\n",
       "        [0.08017388],\n",
       "        [0.08026311]],\n",
       "\n",
       "       [[0.14698564],\n",
       "        [0.15758458],\n",
       "        [0.16609862],\n",
       "        ...,\n",
       "        [0.09054492],\n",
       "        [0.09086117],\n",
       "        [0.09082602]],\n",
       "\n",
       "       [[0.19701348],\n",
       "        [0.2074463 ],\n",
       "        [0.21570687],\n",
       "        ...,\n",
       "        [0.1140604 ],\n",
       "        [0.11460337],\n",
       "        [0.1146903 ]],\n",
       "\n",
       "       ...,\n",
       "\n",
       "       [[0.03008091],\n",
       "        [0.02495248],\n",
       "        [0.02137853],\n",
       "        ...,\n",
       "        [0.21947362],\n",
       "        [0.21434742],\n",
       "        [0.20816258]],\n",
       "\n",
       "       [[0.03469583],\n",
       "        [0.03074595],\n",
       "        [0.02796775],\n",
       "        ...,\n",
       "        [0.19221038],\n",
       "        [0.18775512],\n",
       "        [0.18242136]],\n",
       "\n",
       "       [[0.06496677],\n",
       "        [0.06304631],\n",
       "        [0.06170576],\n",
       "        ...,\n",
       "        [0.17478226],\n",
       "        [0.1715327 ],\n",
       "        [0.16766778]]], dtype=float32)>"
      ]
     },
     "execution_count": 14,
     "metadata": {},
     "output_type": "execute_result"
    }
   ],
   "source": [
    "from saved_models.saved_models import DDPMUNet_model\n",
    "model = DDPMUNet_model()\n",
    "model(weighted_map)"
   ]
  },
  {
   "cell_type": "code",
   "execution_count": null,
   "id": "6edb183b-64cd-4d51-b1e6-d99294203b34",
   "metadata": {},
   "outputs": [],
   "source": []
  }
 ],
 "metadata": {
  "kernelspec": {
   "display_name": "Python (myenv)",
   "language": "python",
   "name": "myenv"
  },
  "language_info": {
   "codemirror_mode": {
    "name": "ipython",
    "version": 3
   },
   "file_extension": ".py",
   "mimetype": "text/x-python",
   "name": "python",
   "nbconvert_exporter": "python",
   "pygments_lexer": "ipython3",
   "version": "3.11.9"
  }
 },
 "nbformat": 4,
 "nbformat_minor": 5
}
