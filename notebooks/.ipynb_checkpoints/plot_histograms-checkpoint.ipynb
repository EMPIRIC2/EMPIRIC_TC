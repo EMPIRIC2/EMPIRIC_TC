{
 "cells": [
  {
   "cell_type": "code",
   "execution_count": null,
   "id": "890a9133-118f-4da2-a785-5beb9b14ff84",
   "metadata": {},
   "outputs": [],
   "source": [
    "\n",
    "def get_index_permutation(l1, l2):\n",
    "    \"\"\" \n",
    "    Takes two lists l1 and l2 \n",
    "    that are permutations of each other, \n",
    "    returns a list mapping the indexes \n",
    "    of l1 to the indexes in l2\n",
    "    \"\"\"\n",
    "    \n",
    "    d = {}\n",
    "\n",
    "    for i in range(len(l2)):\n",
    "        d[l2[i]] = i\n",
    "\n",
    "    perm_lst = []\n",
    "    for i in range(len(l1)):\n",
    "        perm_lst.append(d[l1[i]])\n",
    "\n",
    "    return perm_lst"
   ]
  },
  {
   "cell_type": "code",
   "execution_count": null,
   "id": "34f8ec11-529c-421b-9a4c-556506d78cd0",
   "metadata": {},
   "outputs": [],
   "source": [
    "import pandas as pd\n",
    "import seaborn as sns\n",
    "import matplotlib.pyplot as plt\n",
    "\n",
    "## taken from MachineLearning.Evaluation.figures make_example_site_histogram_figures\n",
    "## how to plot the data\n",
    "plt.rcParams[\"font.family\"] = \"Times New Roman\"\n",
    "\n",
    "df = pd.read_pickle('/path/to/histogram_data.pkl')\n",
    "\n",
    "df_ood = pd.read_pickle('/path/to/histogram_data_out_of_domain.pkl')\n",
    "\n",
    "plt.rcParams['axes.labelsize'] = 18\n",
    "plt.rcParams['xtick.labelsize'] = 18\n",
    "plt.rcParams['ytick.labelsize'] = 18\n",
    "plt.rcParams['legend.fontsize'] = 18\n",
    "plt.rcParams['legend.title_fontsize'] = 18\n",
    "\n",
    "hospitals = df[\"Hospital\"].unique()\n",
    "fig, axes = plt.subplots(1,len(hospitals))\n",
    "\n",
    "df_1 = df\n",
    "df_2 = df_ood\n",
    "df_1 = df[df.Model != 'FNO N=100 Decades']\n",
    "df_1 = df_1[df_1.Model != 'DDPM UNet N=100 Decades']\n",
    "\n",
    "df_2 = df_ood[df_ood.Model != 'FNO N=100 Decades']\n",
    "df_2 = df_2[df_2.Model != 'DDPM UNet N=100 Decades']\n",
    "\n",
    "dfs = [df_1, df_2]\n",
    "j=1\n",
    "\n",
    "for i, hospital in enumerate(hospitals):\n",
    "    ax = axes[i]\n",
    "        \n",
    "    data = dfs[j][dfs[j].Hospital == hospital]\n",
    "\n",
    "    \n",
    "    ax.set_title(hospital, fontsize=18)\n",
    "            \n",
    "    use_legend = (i == len(hospitals) - 1) # and (j == 0)\n",
    "    \n",
    "    p = sns.histplot(\n",
    "                    data=data,\n",
    "                    hue='Model',\n",
    "                    x='Mean Decadal Landfalls',\n",
    "                    element='step', \n",
    "                    common_bins=True,\n",
    "                    common_norm=False,\n",
    "                    ax=ax,\n",
    "                    legend=use_legend\n",
    "    )\n",
    "    \n",
    "    mean_df = data.groupby(\"Model\")['Mean Decadal Landfalls'].mean().reset_index()\n",
    "    median_df = data.groupby(\"Model\")['Mean Decadal Landfalls'].median().reset_index()\n",
    "\n",
    "    medians = list(median_df[\"Mean Decadal Landfalls\"])\n",
    "    means = list(mean_df[\"Mean Decadal Landfalls\"])\n",
    "    \n",
    "    models = list(mean_df[\"Model\"])\n",
    "    models2 = list(data[\"Model\"].unique())\n",
    "    indexes = get_index_permutation(models, models2)\n",
    "        \n",
    "    means = [means[i] for i in indexes]\n",
    "    medians = [medians[i] for i in indexes]\n",
    "        \n",
    "        \n",
    "    ax.vlines(means, 0, 45, colors=sns.color_palette(n_colors=len(models)), ls=[\"-\", \"--\", (0,(9,3,4,4)), (0, (3, 2, 5, 5))])\n",
    "    '''ax.vlines(\n",
    "            medians,\n",
    "            0,\n",
    "            45,\n",
    "            colors=sns.color_palette(n_colors=len(models)),\n",
    "            linestyle=\"--\"\n",
    "        )'''\n",
    "        \n",
    "    if use_legend:\n",
    "        sns.move_legend(ax, \"upper left\", bbox_to_anchor=(1, 1))\n",
    "\n",
    "fig.set_size_inches(16, 5)\n"
   ]
  },
  {
   "cell_type": "code",
   "execution_count": null,
   "id": "119667c6-5ecb-4350-85a7-a47113ac8629",
   "metadata": {},
   "outputs": [],
   "source": [
    "## compute the ensemble means\n",
    "means = df.groupby([\"Model\", \"Hospital\"])['Mean Decadal Landfalls'].mean()\n",
    "\n"
   ]
  },
  {
   "cell_type": "code",
   "execution_count": null,
   "id": "3bef6659-b653-443f-a192-6feb828d3297",
   "metadata": {},
   "outputs": [],
   "source": [
    "## get how much the means change between in domain and out of domain\n",
    "\n",
    "means = df.groupby([\"Model\", \"Hospital\"])['Mean Decadal Landfalls'].mean().reset_index()\n",
    "means[\"Variance\"] = df.groupby([\"Model\", \"Hospital\"])['Mean Decadal Landfalls'].var().reset_index()['Mean Decadal Landfalls'] * 10000\n",
    "means_ood = df_ood.groupby([\"Model\", \"Hospital\"])['Mean Decadal Landfalls'].mean().reset_index()\n",
    "means_ood[\"Variance\"] = df_ood.groupby([\"Model\", \"Hospital\"])['Mean Decadal Landfalls'].var().reset_index()['Mean Decadal Landfalls'] * 10000\n"
   ]
  },
  {
   "cell_type": "markdown",
   "id": "c199b588-a69d-4865-9ff0-2ee0e7bb50f6",
   "metadata": {},
   "source": []
  },
  {
   "cell_type": "code",
   "execution_count": null,
   "id": "617ac596-7313-44ee-bb94-c90a8f6d7ed1",
   "metadata": {},
   "outputs": [],
   "source": [
    "means[\"Mean Decadal Landfalls Out of Domain\"] = means_ood[\"Mean Decadal Landfalls\"]"
   ]
  },
  {
   "cell_type": "code",
   "execution_count": null,
   "id": "d9417e14-483c-45fe-b6e6-6223e2c268e8",
   "metadata": {},
   "outputs": [],
   "source": [
    "means[\"Difference\"] = (means[\"Mean Decadal Landfalls Out of Domain\"] - means[\"Mean Decadal Landfalls\"]) * 1000"
   ]
  },
  {
   "cell_type": "code",
   "execution_count": null,
   "id": "ce3cea2d-780c-4698-8c60-fa9efff35097",
   "metadata": {},
   "outputs": [],
   "source": [
    "## print latex table\n",
    "## this table is edited for formatting in the paper\n",
    "\n",
    "print(means.groupby(\n",
    "    [\"Hospital\", \"Model\"]\n",
    ")[\n",
    "      [\"Variance\", \"Mean Decadal Landfalls\", \n",
    "       \"Mean Decadal Landfalls Out of Domain\", \n",
    "       'Difference']].apply(lambda x: x).droplevel(2, axis=0).to_latex(float_format=\"%.3f\"))\n",
    "      "
   ]
  }
 ],
 "metadata": {
  "kernelspec": {
   "display_name": "Python 3 (ipykernel)",
   "language": "python",
   "name": "python3"
  },
  "language_info": {
   "codemirror_mode": {
    "name": "ipython",
    "version": 3
   },
   "file_extension": ".py",
   "mimetype": "text/x-python",
   "name": "python",
   "nbconvert_exporter": "python",
   "pygments_lexer": "ipython3",
   "version": "3.10.16"
  }
 },
 "nbformat": 4,
 "nbformat_minor": 5
}
