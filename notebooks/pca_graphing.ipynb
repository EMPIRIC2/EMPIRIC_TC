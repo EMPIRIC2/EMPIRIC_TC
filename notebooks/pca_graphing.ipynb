{
 "cells": [
  {
   "cell_type": "code",
   "execution_count": 1,
   "id": "409fbe77-afb7-4930-883e-3caf56560aca",
   "metadata": {
    "tags": []
   },
   "outputs": [
    {
     "name": "stderr",
     "output_type": "stream",
     "text": [
      "2024-04-11 16:20:53.817130: I tensorflow/core/platform/cpu_feature_guard.cc:182] This TensorFlow binary is optimized to use available CPU instructions in performance-critical operations.\n",
      "To enable the following instructions: AVX2 FMA, in other operations, rebuild TensorFlow with the appropriate compiler flags.\n"
     ]
    },
    {
     "name": "stdout",
     "output_type": "stream",
     "text": [
      "loaded packages\n"
     ]
    },
    {
     "name": "stderr",
     "output_type": "stream",
     "text": [
      "2024-04-11 16:32:15.913619: E tensorflow/compiler/xla/stream_executor/cuda/cuda_driver.cc:268] failed call to cuInit: CUDA_ERROR_UNKNOWN: unknown error\n"
     ]
    },
    {
     "name": "stdout",
     "output_type": "stream",
     "text": [
      "create dataset time: 0.1924762725830078\n"
     ]
    }
   ],
   "source": [
    "%load_ext autoreload\n",
    "%autoreload 2\n",
    "from MachineLearning.dataset import *\n",
    "import matplotlib.pyplot as plt\n",
    "\n",
    "data_folder = \"/nesi/project/uoa03669/ewin313/storm_data/v2/\"\n",
    "train_data = get_dataset(data_folder, \"MachineLearning/ConvProbPredictor/\", data_version=2, zero_inputs=False)\n",
    "train_samples = [next(iter(train_data)) for i in range(100)]"
   ]
  },
  {
   "cell_type": "code",
   "execution_count": null,
   "id": "cbd3e7b3-849d-4432-b2a6-06c8677fd5f2",
   "metadata": {},
   "outputs": [],
   "source": [
    "\n",
    "x = [sample[0][0][0] for sample in train_samples]\n"
   ]
  },
  {
   "cell_type": "code",
   "execution_count": null,
   "id": "704c51df-3e5b-4790-aa3d-dc7ab973afe4",
   "metadata": {},
   "outputs": [],
   "source": []
  }
 ],
 "metadata": {
  "kernelspec": {
   "display_name": "ml_env",
   "language": "python",
   "name": "ml_env"
  },
  "language_info": {
   "codemirror_mode": {
    "name": "ipython",
    "version": 3
   },
   "file_extension": ".py",
   "mimetype": "text/x-python",
   "name": "python",
   "nbconvert_exporter": "python",
   "pygments_lexer": "ipython3",
   "version": "3.9.0"
  }
 },
 "nbformat": 4,
 "nbformat_minor": 5
}
