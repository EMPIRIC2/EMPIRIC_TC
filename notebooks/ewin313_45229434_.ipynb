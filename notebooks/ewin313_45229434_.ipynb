{
 "cells": [
  {
   "cell_type": "code",
   "execution_count": 1,
   "id": "547a1a08-3f9d-4b3b-95f6-293d4da93d68",
   "metadata": {
    "tags": []
   },
   "outputs": [],
   "source": [
    "### Test the distributions of cyclone movement in IBTRaCS\n",
    "\n",
    "import numpy as np\n",
    "lat_list = np.load('./Training Data Generation/STORM/LATLIST_INTERP.npy', allow_pickle=True)\n",
    "lon_list = np.load('./Training Data Generation/STORM/LONLIST_INTERP.npy', allow_pickle=True)\n",
    "\n",
    "basin_list = np.load('./Training Data Generation/STORM/BASINLIST_INTERP.npy', allow_pickle=True)\n",
    "lat_list_sp =  [lat for storm_num, lat in lat_list[()].items() if len(basin_list[()][storm_num]) > 0 and basin_list[()][storm_num][0] == 4]\n",
    "lon_list_sp = [lon for storm_num, lon in lon_list[()].items() if len(basin_list[()][storm_num]) > 0 and basin_list[()][storm_num][0] == 4]\n"
   ]
  },
  {
   "cell_type": "code",
   "execution_count": 11,
   "id": "8f71eb5a-9530-4afe-b282-fba2eb31fa18",
   "metadata": {},
   "outputs": [],
   "source": [
    "all_lat_diffs = []\n",
    "all_lon_diffs = []\n",
    "for i in range(len(lat_list_sp)):\n",
    "    lat_diffs = [lat_list_sp[i][j+1] - lat_list_sp[i][j] for j in range(len(lat_list_sp[i]) - 1)]\n",
    "    all_lat_diffs+=lat_diffs\n",
    "    lon_diffs = [lon_list_sp[i][j+1] - lon_list_sp[i][j] for j in range(len(lon_list_sp[i]) -1)]\n",
    "    all_lon_diffs += lon_diffs\n",
    "\n",
    "    "
   ]
  },
  {
   "cell_type": "code",
   "execution_count": 15,
   "id": "1a45493c-a2c6-4943-a0e1-112df07f4ae5",
   "metadata": {
    "tags": []
   },
   "outputs": [
    {
     "name": "stdout",
     "output_type": "stream",
     "text": [
      "13941\n"
     ]
    },
    {
     "data": {
      "image/png": "[encoded data removed]",
      "text/plain": [
       "<Figure size 432x288 with 1 Axes>"
      ]
     },
     "metadata": {
      "needs_background": "light"
     },
     "output_type": "display_data"
    },
    {
     "data": {
      "image/png": "[encoded data removed]",
      "text/plain": [
       "<Figure size 432x288 with 1 Axes>"
      ]
     },
     "metadata": {
      "needs_background": "light"
     },
     "output_type": "display_data"
    }
   ],
   "source": [
    "import matplotlib.pyplot as plt\n",
    "print(len(all_lat_diffs))\n",
    "plt.hist(all_lat_diffs, bins=50)\n",
    "plt.show()\n",
    "plt.hist(all_lon_diffs, bins=50)\n",
    "plt.show()"
   ]
  },
  {
   "cell_type": "code",
   "execution_count": 44,
   "id": "802b26d3-ee50-4bba-8bf5-b2e80749bab7",
   "metadata": {
    "tags": []
   },
   "outputs": [],
   "source": [
    "lat_diffs_binned = [[] for i in range(15*5)]\n",
    "\n",
    "for i in range(len(lat_list_sp)):\n",
    "    for j in range(len(lat_list_sp[i])-1):\n",
    "        lat_diffs_binned[int(-lat_list_sp[i][j])].append(lat_list_sp[i][j+1] - lat_list_sp[i][j])\n"
   ]
  },
  {
   "cell_type": "code",
   "execution_count": 62,
   "id": "2a2f7450-190f-47ea-acf2-8071c3ab3384",
   "metadata": {
    "tags": []
   },
   "outputs": [
    {
     "data": {
      "image/png": "[encoded data removed]",
      "text/plain": [
       "<Figure size 432x288 with 1 Axes>"
      ]
     },
     "metadata": {
      "needs_background": "light"
     },
     "output_type": "display_data"
    }
   ],
   "source": [
    "plt.hist(lat_diffs_binned[25], bins=50)\n",
    "plt.show()"
   ]
  },
  {
   "cell_type": "code",
   "execution_count": 61,
   "id": "751fe506-14f1-4bdf-9292-d9d7d3e48c98",
   "metadata": {
    "tags": []
   },
   "outputs": [
    {
     "name": "stdout",
     "output_type": "stream",
     "text": [
      "354\n"
     ]
    }
   ],
   "source": [
    "print(len(lat_diffs_binned[25]))"
   ]
  },
  {
   "cell_type": "code",
   "execution_count": null,
   "id": "49928e1c-3ded-494c-ae93-6830c98a3276",
   "metadata": {},
   "outputs": [],
   "source": []
  }
 ],
 "metadata": {
  "kernelspec": {
   "display_name": "data_generation",
   "language": "python",
   "name": "data_generation"
  },
  "language_info": {
   "codemirror_mode": {
    "name": "ipython",
    "version": 3
   },
   "file_extension": ".py",
   "mimetype": "text/x-python",
   "name": "python",
   "nbconvert_exporter": "python",
   "pygments_lexer": "ipython3",
   "version": "3.9.9"
  }
 },
 "nbformat": 4,
 "nbformat_minor": 5
}
