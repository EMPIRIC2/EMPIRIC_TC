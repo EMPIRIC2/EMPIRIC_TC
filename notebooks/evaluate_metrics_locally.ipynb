{
 "cells": [
  {
   "cell_type": "code",
   "execution_count": 27,
   "id": "d2145ad6-0ca8-43cb-aa18-2524147aa0a2",
   "metadata": {},
   "outputs": [
    {
     "name": "stdout",
     "output_type": "stream",
     "text": [
      "(95, 110, 210)\n"
     ]
    }
   ],
   "source": [
    "import numpy as np\n",
    "import sys\n",
    "sys.path.append('../')\n",
    "\n",
    "all_outputs_out_of_domain = np.load(\"/Users/eliwinkelman/Downloads/all_predictions_out_of_domain.npy\", allow_pickle=True)[()]\n",
    "all_outputs_in_domain = np.load(\"/Users/eliwinkelman/Downloads/all_predictions_in_domain.npy\", allow_pickle=True)[()]\n",
    "print(all_outputs[\"STORM\"].shape)"
   ]
  },
  {
   "cell_type": "code",
   "execution_count": 21,
   "id": "73b9266c-63f7-43db-9fa6-2757a12cc7f4",
   "metadata": {},
   "outputs": [],
   "source": [
    "models_info = [\n",
    "        {\n",
    "            \"name\": \"Nearest Neighbors Regressor\",\n",
    "            \"output_description\": \"Mean 3-5 Category TCs over 10 years\",\n",
    "        },\n",
    "        {\n",
    "            \"name\": \"FNO\",\n",
    "            \"output_description\": \"Mean 3-5 Category TCs over 10 years\",\n",
    "    \n",
    "        },\n",
    "        {\n",
    "            \"name\": \"DDPM UNet\",\n",
    "            \"output_description\": \"Mean 3-5 Category TCs over 10 years\",\n",
    "   \n",
    "        },\n",
    "        {\n",
    "            \"name\": \"DDPM UNet N=100 Decades\",\n",
    "            \"output_description\": \"Mean 3-5 Category TCs over 10 years\",\n",
    "\n",
    "        },\n",
    "        {\n",
    "            \"name\": \"FNO N=100 Decades\",\n",
    "            \"output_description\": \"Mean 3-5 Category TCs over 10 years\",\n",
    "\n",
    "        },\n",
    "    ]"
   ]
  },
  {
   "cell_type": "code",
   "execution_count": 25,
   "id": "98df12ab-26c5-47dc-84f8-4112a6272e2d",
   "metadata": {},
   "outputs": [],
   "source": [
    "\n",
    "from MachineLearning.Evaluation.evaluation_utils import process_predictions\n",
    "from MachineLearning.Evaluation.figures import (make_collective_model_figures,\n",
    "                                                make_single_model_figures,\n",
    "                                                save_metrics_as_latex)\n",
    "from MachineLearning.Evaluation.metrics import compute_metrics\n",
    "from MachineLearning.Evaluation.model_statistics import \\\n",
    "    compute_ensemble_statistics\n",
    "\n",
    "import os\n",
    "\n",
    "def evaluate_locally(output_dir, all_outputs, models):\n",
    "    \n",
    "    metrics = []\n",
    "    outputs = all_outputs[\"STORM\"]\n",
    "    storm_statistics = compute_ensemble_statistics(\"STORM\", outputs)\n",
    "    \n",
    "    all_statistics = [storm_statistics]\n",
    "\n",
    "    for model_info in models:\n",
    "        \n",
    "        predictions = all_outputs[model_info[\"name\"]]\n",
    "        \n",
    "        model_statistics = compute_ensemble_statistics(model_info[\"name\"], predictions)\n",
    "\n",
    "        model_metrics = compute_metrics(\n",
    "            outputs, predictions, storm_statistics, model_statistics, model_info[\"name\"]\n",
    "        )\n",
    "\n",
    "        metrics.append(model_metrics)\n",
    "\n",
    "        if not os.path.exists(os.path.join(output_dir, model_info[\"name\"])):\n",
    "            os.makedirs(os.path.join(output_dir, model_info[\"name\"]))\n",
    "\n",
    "        make_single_model_figures(\n",
    "            model_metrics,\n",
    "            os.path.join(output_dir, model_info[\"name\"]),\n",
    "        )\n",
    "\n",
    "        all_outputs[model_info[\"name\"]] = predictions\n",
    "        all_statistics.append(model_statistics)\n",
    "    \n",
    "    save_metrics_as_latex(metrics, os.path.join(output_dir, \"metrics.tex\"))"
   ]
  },
  {
   "cell_type": "code",
   "execution_count": 26,
   "id": "3259296c-9ac8-4117-a829-9d0045896fd1",
   "metadata": {},
   "outputs": [
    {
     "name": "stderr",
     "output_type": "stream",
     "text": [
      "/Users/eliwinkelman/code/EMPIRIC-AI-emulation/ml_env/lib/python3.11/site-packages/scipy/stats/_axis_nan_policy.py:394: RuntimeWarning: ks_2samp: Exact calculation unsuccessful. Switching to method=asymp.\n",
      "  return hypotest_fun_in(*args, **kwds)\n",
      "/Users/eliwinkelman/code/EMPIRIC-AI-emulation/ml_env/lib/python3.11/site-packages/cartopy/io/__init__.py:241: DownloadWarning: Downloading: https://naturalearth.s3.amazonaws.com/110m_physical/ne_110m_coastline.zip\n",
      "  warnings.warn(f'Downloading: {url}', DownloadWarning)\n"
     ]
    },
    {
     "data": {
      "text/plain": [
       "<Figure size 640x480 with 0 Axes>"
      ]
     },
     "metadata": {},
     "output_type": "display_data"
    },
    {
     "data": {
      "text/plain": [
       "<Figure size 640x480 with 0 Axes>"
      ]
     },
     "metadata": {},
     "output_type": "display_data"
    },
    {
     "data": {
      "text/plain": [
       "<Figure size 640x480 with 0 Axes>"
      ]
     },
     "metadata": {},
     "output_type": "display_data"
    },
    {
     "data": {
      "text/plain": [
       "<Figure size 640x480 with 0 Axes>"
      ]
     },
     "metadata": {},
     "output_type": "display_data"
    },
    {
     "data": {
      "text/plain": [
       "<Figure size 640x480 with 0 Axes>"
      ]
     },
     "metadata": {},
     "output_type": "display_data"
    }
   ],
   "source": [
    "evaluate_locally(\"./out_of_domain/\", all_outputs_out_of_domain, models_info)"
   ]
  },
  {
   "cell_type": "code",
   "execution_count": 28,
   "id": "39c645f2-b752-44f6-807d-fb78738eafe1",
   "metadata": {},
   "outputs": [
    {
     "name": "stderr",
     "output_type": "stream",
     "text": [
      "/Users/eliwinkelman/code/EMPIRIC-AI-emulation/ml_env/lib/python3.11/site-packages/scipy/stats/_axis_nan_policy.py:394: RuntimeWarning: ks_2samp: Exact calculation unsuccessful. Switching to method=asymp.\n",
      "  return hypotest_fun_in(*args, **kwds)\n"
     ]
    },
    {
     "data": {
      "text/plain": [
       "<Figure size 640x480 with 0 Axes>"
      ]
     },
     "metadata": {},
     "output_type": "display_data"
    },
    {
     "data": {
      "text/plain": [
       "<Figure size 640x480 with 0 Axes>"
      ]
     },
     "metadata": {},
     "output_type": "display_data"
    },
    {
     "data": {
      "text/plain": [
       "<Figure size 640x480 with 0 Axes>"
      ]
     },
     "metadata": {},
     "output_type": "display_data"
    },
    {
     "data": {
      "text/plain": [
       "<Figure size 640x480 with 0 Axes>"
      ]
     },
     "metadata": {},
     "output_type": "display_data"
    },
    {
     "data": {
      "text/plain": [
       "<Figure size 640x480 with 0 Axes>"
      ]
     },
     "metadata": {},
     "output_type": "display_data"
    }
   ],
   "source": [
    "evaluate_locally(\"./in_domain/\", all_outputs_in_domain, models_info)"
   ]
  },
  {
   "cell_type": "code",
   "execution_count": null,
   "id": "18f3e301-40a9-4f21-8881-3597af152830",
   "metadata": {},
   "outputs": [],
   "source": []
  }
 ],
 "metadata": {
  "kernelspec": {
   "display_name": "Python 3 (ipykernel)",
   "language": "python",
   "name": "python3"
  },
  "language_info": {
   "codemirror_mode": {
    "name": "ipython",
    "version": 3
   },
   "file_extension": ".py",
   "mimetype": "text/x-python",
   "name": "python",
   "nbconvert_exporter": "python",
   "pygments_lexer": "ipython3",
   "version": "3.11.9"
  }
 },
 "nbformat": 4,
 "nbformat_minor": 5
}
