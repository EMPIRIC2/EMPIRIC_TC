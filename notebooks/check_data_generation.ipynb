{
 "cells": [
  {
   "cell_type": "code",
   "execution_count": 5,
   "id": "96ad6655-6d61-481a-9b72-7dd47a117a26",
   "metadata": {
    "tags": []
   },
   "outputs": [
    {
     "name": "stderr",
     "output_type": "stream",
     "text": [
      "Clipping input data to the valid range for imshow with RGB data ([0..1] for floats or [0..255] for integers).\n"
     ]
    },
    {
     "name": "stdout",
     "output_type": "stream",
     "text": [
      "1.6\n",
      "0.0\n"
     ]
    },
    {
     "data": {
      "image/png": "[encoded data removed]",
      "text/plain": [
       "<Figure size 432x288 with 1 Axes>"
      ]
     },
     "metadata": {
      "needs_background": "light"
     },
     "output_type": "display_data"
    }
   ],
   "source": [
    "import h5py\n",
    "import numpy as np\n",
    "import matplotlib.pyplot as plt\n",
    "\n",
    "data_file_path = \"/nesi/project/uoa03669/ewin313/TropicalCycloneAI/Data/run6/AllData_1718674910.7661033.hdf5\"\n",
    "with h5py.File(data_file_path, 'r+') as file:\n",
    "\n",
    "    std = file[\"train_decade_std\"]\n",
    "    summed_std = np.sum(std[0][:,:,:4,:], axis=-1)\n",
    "    plt.imshow(summed_std)\n",
    "    print(np.max(summed_std))\n",
    "    print(np.min(summed_std))\n",
    "    '''\n",
    "    plt.imshow(np.sum(genesis[0], axis=0))\n",
    "    plt.show()\n",
    "    #print(grids[0])\n",
    "    print(grids.shape)\n",
    "    plt.imshow(np.sum(grids[0,1,:,:,0,:], axis=-1))\n",
    "    print(np.max(np.sum(grids[0,1,:,:,0,:], axis=-1)))\n",
    "    #plt.imshow(np.median(np.sum(np.sum(grids[0], axis=-2)[:,:,:,4:6], axis=-1), axis=0))\n",
    "    plt.show()\n",
    "    plt.imshow(np.mean(np.sum(np.sum(grids[0], axis=-2)[:,:,:,4:6], axis=-1), axis=0))\n",
    "    plt.show()\n",
    "    plt.imshow(np.quantile(np.sum(np.sum(grids[0], axis=-2)[:,:,:,4:6], axis=-1), 0.7, axis=0))\n",
    "    plt.show()\n",
    "    plt.imshow(np.max(np.sum(np.sum(grids[0], axis=-2)[:,:,:,4:6], axis=-1), axis=0))\n",
    "    plt.show()\n",
    "    print(np.max(np.mean(np.sum(np.sum(grids[0], axis=-2)[:,:,:,4:6], axis=-1), axis=0)))\n",
    "    print(np.unravel_index(np.argmax(grids[0,:,:]), grids[0].shape))\n",
    "    print(np.max(np.sum(grids[0], axis=-2)[6,:,:,5]))\n",
    "    #print(np.count_nonzero(grids[0,:,:,:,:,0]))\n",
    "    '''\n",
    "\n"
   ]
  },
  {
   "cell_type": "code",
   "execution_count": null,
   "id": "b9b27b33-f79b-4685-a84b-4688015fb29e",
   "metadata": {},
   "outputs": [
    {
     "name": "stdout",
     "output_type": "stream",
     "text": [
      "getting grid sums\n",
      "1 1828110336\n",
      "0\n",
      "(110, 55, 6, 4)\n",
      "(5, 110, 55, 6, 4)\n",
      "3577507840\n",
      "3583545344\n",
      "3583709184\n",
      "1\n",
      "(110, 55, 6, 4)\n",
      "(5, 110, 55, 6, 4)\n",
      "3583709184\n",
      "3585454080\n",
      "3585454080\n",
      "2\n",
      "(110, 55, 6, 4)\n",
      "(5, 110, 55, 6, 4)\n",
      "3585454080\n",
      "3587076096\n",
      "3587076096\n",
      "3\n",
      "(110, 55, 6, 4)\n",
      "(5, 110, 55, 6, 4)\n",
      "3587076096\n",
      "3588956160\n",
      "3588956160\n",
      "4\n",
      "(110, 55, 6, 4)\n",
      "(5, 110, 55, 6, 4)\n",
      "3588956160\n",
      "3590578176\n",
      "3590578176\n",
      "5\n",
      "(110, 55, 6, 4)\n",
      "(5, 110, 55, 6, 4)\n",
      "3590578176\n",
      "3592200192\n",
      "3592200192\n",
      "6\n",
      "(110, 55, 6, 4)\n",
      "(5, 110, 55, 6, 4)\n",
      "3592200192\n",
      "3594092544\n",
      "3594092544\n",
      "7\n",
      "(110, 55, 6, 4)\n",
      "(5, 110, 55, 6, 4)\n",
      "3594092544\n",
      "3595714560\n",
      "3595714560\n",
      "8\n",
      "(110, 55, 6, 4)\n",
      "(5, 110, 55, 6, 4)\n",
      "3595714560\n",
      "3597606912\n",
      "3597606912\n",
      "9\n",
      "(110, 55, 6, 4)\n",
      "(5, 110, 55, 6, 4)\n",
      "3597606912\n",
      "3599228928\n",
      "3599228928\n",
      "3616784384\n",
      "getting grid sums\n",
      "1 1847275520\n"
     ]
    }
   ],
   "source": [
    "from psutil import Process\n",
    "import numpy as np\n",
    "import random\n",
    "def _get_random_year_combination(num_years, size):\n",
    "    sample = set()\n",
    "    while len(sample) < size:\n",
    "        # Choose one random item from items\n",
    "        elem = random.randint(0, num_years - 1)\n",
    "        # Using a set elminates duplicates easily\n",
    "        sample.add(elem)\n",
    "    return tuple(sample)\n",
    "\n",
    "\n",
    "def get_random_year_combinations(num_combinations, num_years, size):\n",
    "    samples = set()\n",
    "    while len(samples) < num_combinations:\n",
    "        comb = _get_random_year_combination(num_years, size)\n",
    "        samples.add(comb)\n",
    "\n",
    "    return tuple(samples)\n",
    "\n",
    "def get_grid_sum_samples(yearly_grids, n_years_to_sum, n_years_to_sum_cat_4_5, n_samples, total_years):\n",
    "    print(\"getting grid sums\")\n",
    "    print(\"1\", Process().memory_info().rss)\n",
    "    sums = []\n",
    "    yearly_grids = np.array(yearly_grids)\n",
    "    year_indices = get_random_year_combinations(n_samples, total_years, n_years_to_sum)\n",
    "    year_indices_cat_4_5 = get_random_year_combinations(n_samples, total_years, n_years_to_sum_cat_4_5)\n",
    "    \n",
    "    for i in range(n_samples):\n",
    "        print(len(sums))\n",
    "        sampled_sum = np.zeros(yearly_grids[0].shape)\n",
    "        print(sampled_sum[:,:,:,:4].shape)\n",
    "        print(yearly_grids[list(year_indices[i]), :, :, :, :4].shape)\n",
    "        print(Process().memory_info().rss)\n",
    "        sampled_sum[:,:,:,:4] = np.sum(yearly_grids[list(year_indices[i]), :, :, :, :4].copy(), axis=0)\n",
    "        print(Process().memory_info().rss)\n",
    "        sampled_sum[:, :, :, 4:] = np.sum(yearly_grids[list(year_indices_cat_4_5[i]), :, :, :, 4:].copy(), axis=0)\n",
    "        \n",
    "        sums.append(sampled_sum)\n",
    "        print(Process().memory_info().rss)\n",
    "    \n",
    "    sums = np.array(sums)  \n",
    "    print(Process().memory_info().rss)\n",
    "    return sums\n",
    "\n",
    "def main():\n",
    "    yearly_grids = np.ones((1000, 110, 55, 6, 6))\n",
    "    grid_sums = get_grid_sum_samples(yearly_grids, 5, 5, 10, 1000)\n",
    "    Process().memory_info().rss\n",
    "    del yearly_grids\n",
    "    Process().memory_info().rss\n",
    "\n",
    "    return grid_sums\n",
    "\n",
    "grid_sums = []\n",
    "for i in range(5):\n",
    "    grid_sums.append(main())\n"
   ]
  },
  {
   "cell_type": "code",
   "execution_count": null,
   "id": "c848be20-e231-4e76-9129-66ef14fac688",
   "metadata": {},
   "outputs": [],
   "source": []
  }
 ],
 "metadata": {
  "kernelspec": {
   "display_name": "Python 3.10.5 (gimkl-2022a)",
   "language": "python",
   "name": "python3105-gimkl-2022a"
  },
  "language_info": {
   "codemirror_mode": {
    "name": "ipython",
    "version": 3
   },
   "file_extension": ".py",
   "mimetype": "text/x-python",
   "name": "python",
   "nbconvert_exporter": "python",
   "pygments_lexer": "ipython3",
   "version": "3.10.5"
  }
 },
 "nbformat": 4,
 "nbformat_minor": 5
}
