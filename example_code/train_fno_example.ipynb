{
 "cells": [
  {
   "cell_type": "code",
   "execution_count": null,
   "id": "84ac0f2f-8990-4675-8fda-7a178bae71da",
   "metadata": {},
   "outputs": [],
   "source": [
    "import os\n",
    "import sys\n",
    "\n",
    "## add the project directory to the path... this should only be done in the Jupyter notebook, do NOT do in any scripts\n",
    "module_path = os.path.abspath(os.path.join('../')) # or the path to your source code\n",
    "sys.path.insert(0, module_path)\n",
    "\n",
    "from MachineLearning.FNO.train import train_fno\n",
    "\n",
    "TRAINING_CONFIG = {\n",
    "    \"Name\": \"fno test cat 3 to 5\",\n",
    "    \"optimizer\": \"adam\",\n",
    "    \"loss\": \"mean_squared_error\",\n",
    "    \"metric\": \"mean_absolute_error\",\n",
    "    \"learning_rate\": 0.001,\n",
    "    \"epoch\": 7,\n",
    "    \"batch_size\": 32,\n",
    "    \"max_category\": 5,\n",
    "    \"min_category\": 3,\n",
    "    \"N_100_decades\": 1\n",
    "}\n",
    "\n",
    "MODEL_CONFIG = {\n",
    "            \"n_modes_height\": 16, \n",
    "            \"n_modes_width\": 16,\n",
    "            \"in_channels\": 1,\n",
    "            \"hidden_channels\": 32,\n",
    "            \"projection_channels\": 64,\n",
    "            \"factorization\": 'tucker', \n",
    "            \"rank\": 0.42\n",
    "}\n",
    "\n",
    "data_dir = \"/path/to/data\"\n",
    "train_fno(\n",
    "    'FNO',\n",
    "    data_dir,\n",
    "    MODEL_CONFIG,\n",
    "    TRAINING_CONFIG\n",
    ")\n"
   ]
  },
  {
   "cell_type": "code",
   "execution_count": null,
   "id": "2ebea2cd-596d-4324-a800-9e61e5d98e7b",
   "metadata": {},
   "outputs": [],
   "source": []
  }
 ],
 "metadata": {
  "kernelspec": {
   "display_name": "Python 3 (ipykernel)",
   "language": "python",
   "name": "python3"
  },
  "language_info": {
   "codemirror_mode": {
    "name": "ipython",
    "version": 3
   },
   "file_extension": ".py",
   "mimetype": "text/x-python",
   "name": "python",
   "nbconvert_exporter": "python",
   "pygments_lexer": "ipython3",
   "version": "3.10.16"
  }
 },
 "nbformat": 4,
 "nbformat_minor": 5
}
