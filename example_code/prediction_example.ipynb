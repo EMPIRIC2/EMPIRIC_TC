{
 "cells": [
  {
   "cell_type": "code",
   "execution_count": 2,
   "id": "2698bfc6-999e-4804-acb1-08d6c2ee4367",
   "metadata": {},
   "outputs": [
    {
     "name": "stdout",
     "output_type": "stream",
     "text": [
      "['/Users/ewin313/EMPIRIC-AI-emulation/example_code', '/Library/Frameworks/Python.framework/Versions/3.11/lib/python311.zip', '/Library/Frameworks/Python.framework/Versions/3.11/lib/python3.11', '/Library/Frameworks/Python.framework/Versions/3.11/lib/python3.11/lib-dynload', '', '/Users/ewin313/EMPIRIC-AI-emulation/ml_env/lib/python3.11/site-packages']\n"
     ]
    }
   ],
   "source": [
    "%load_ext autoreload\n",
    "%autoreload 2\n",
    "\n",
    "import os\n",
    "import sys\n",
    "## add the project directory to the path... this should only be done in the Jupyter notebook, do NOT do in any scripts\n",
    "module_path = os.path.abspath(os.path.join('../')) # or the path to your source code\n",
    "sys.path.insert(0, module_path)"
   ]
  },
  {
   "cell_type": "code",
   "execution_count": 1,
   "id": "193c9265-9ba4-4467-b2e8-792998f5ed8b",
   "metadata": {
    "tags": []
   },
   "outputs": [
    {
     "ename": "ModuleNotFoundError",
     "evalue": "No module named 'saved_models'",
     "output_type": "error",
     "traceback": [
      "\u001b[0;31m---------------------------------------------------------------------------\u001b[0m",
      "\u001b[0;31mModuleNotFoundError\u001b[0m                       Traceback (most recent call last)",
      "Cell \u001b[0;32mIn[1], line 1\u001b[0m\n\u001b[0;32m----> 1\u001b[0m \u001b[38;5;28;01mfrom\u001b[39;00m \u001b[38;5;21;01msaved_models\u001b[39;00m\u001b[38;5;21;01m.\u001b[39;00m\u001b[38;5;21;01msave_models\u001b[39;00m \u001b[38;5;28;01mimport\u001b[39;00m UNetCustom02CatCyclones\n\u001b[1;32m      2\u001b[0m \u001b[38;5;28;01mfrom\u001b[39;00m \u001b[38;5;21;01mMachineLearning\u001b[39;00m\u001b[38;5;21;01m.\u001b[39;00m\u001b[38;5;21;01mdataset\u001b[39;00m \u001b[38;5;28;01mimport\u001b[39;00m get_dataset\n\u001b[1;32m      4\u001b[0m \u001b[38;5;28;01mimport\u001b[39;00m \u001b[38;5;21;01mmatplotlib\u001b[39;00m\u001b[38;5;21;01m.\u001b[39;00m\u001b[38;5;21;01mpyplot\u001b[39;00m \u001b[38;5;28;01mas\u001b[39;00m \u001b[38;5;21;01mplt\u001b[39;00m\n",
      "\u001b[0;31mModuleNotFoundError\u001b[0m: No module named 'saved_models'"
     ]
    }
   ],
   "source": [
    "from saved_models.save_models import UNetCustom02CatCyclones\n",
    "from MachineLearning.dataset import get_dataset\n",
    "\n",
    "import matplotlib.pyplot as plt\n",
    "\n",
    "# load the model\n",
    "model = UNetCustom02CatCyclones.load_model()\n",
    "\n",
    "# change this to reflect where data is on your computer\n",
    "data_folder = '/nesi/project/uoa03669/ewin313/storm_data/v3/'\n",
    "\n",
    "# get some data\n",
    "test_data = get_dataset(data_folder, data_version=3, dataset='test', batch_size=1)\n",
    "\n",
    "# take the first item\n",
    "one_test_sample = next(iter(test_data))\n",
    "x, ground_truth = one_test_sample\n",
    "\n",
    "# make the model prediction\n",
    "prediction = model(x)\n",
    "\n",
    "# display them both\n",
    "plt.imshow(prediction[0])\n",
    "plt.show()\n",
    "\n",
    "plt.imshow(ground_truth[0])\n",
    "plt.show()"
   ]
  },
  {
   "cell_type": "code",
   "execution_count": null,
   "id": "e4c308f7-a60d-435b-a91d-211539a0d103",
   "metadata": {},
   "outputs": [],
   "source": []
  }
 ],
 "metadata": {
  "kernelspec": {
   "display_name": "Python 3 (ipykernel)",
   "language": "python",
   "name": "python3"
  },
  "language_info": {
   "codemirror_mode": {
    "name": "ipython",
    "version": 3
   },
   "file_extension": ".py",
   "mimetype": "text/x-python",
   "name": "python",
   "nbconvert_exporter": "python",
   "pygments_lexer": "ipython3",
   "version": "3.11.9"
  }
 },
 "nbformat": 4,
 "nbformat_minor": 5
}
